{
 "cells": [
  {
   "cell_type": "code",
   "execution_count": 24,
   "metadata": {},
   "outputs": [
    {
     "name": "stdout",
     "output_type": "stream",
     "text": [
      "Conversion complete!\n"
     ]
    }
   ],
   "source": [
    "from pydub import AudioSegment\n",
    "import os\n",
    "\n",
    "# Create the directory if it doesn't exist\n",
    "os.makedirs(\"../../Dataset/data\", exist_ok=True)\n",
    "# Path to your MP3 file\n",
    "mp3_file_path = \"../../Dataset/SandalWoodNewsStories_41.mp3\"\n",
    "# Path where you want to save the WAV file\n",
    "wav_file_path = \"../../Dataset/data/SandalWoodNewsStories_41.wav\"\n",
    "\n",
    "# Load the MP3 file\n",
    "audio = AudioSegment.from_mp3(mp3_file_path)\n",
    "\n",
    "# Export as WAV\n",
    "audio.export(wav_file_path, format=\"wav\")\n",
    "\n",
    "print(\"Conversion complete!\")"
   ]
  },
  {
   "cell_type": "code",
   "execution_count": 26,
   "metadata": {},
   "outputs": [
    {
     "name": "stdout",
     "output_type": "stream",
     "text": [
      "An error occurred: index -2 is out of bounds for dimension 0 with size 0\n",
      "Device being used: cpu\n",
      "Model name: vasista22/whisper-kannada-tiny\n"
     ]
    }
   ],
   "source": [
    "import torch\n",
    "from transformers import WhisperProcessor, WhisperForConditionalGeneration\n",
    "import librosa\n",
    "\n",
    "# Load audio\n",
    "audio_path = \"../../Dataset/data/SandalWoodNewsStories_41.wav\"\n",
    "audio, sr = librosa.load(audio_path, sr=16000)\n",
    "\n",
    "# Load model and processor\n",
    "model_id = \"vasista22/whisper-kannada-tiny\"\n",
    "processor = WhisperProcessor.from_pretrained(model_id)\n",
    "model = WhisperForConditionalGeneration.from_pretrained(model_id)\n",
    "model.config.forced_decoder_ids = processor.get_decoder_prompt_ids(\n",
    "    language=\"kn\", task=\"transcribe\"\n",
    ")\n",
    "\n",
    "\n",
    "# Process in smaller chunks\n",
    "def process_audio(audio_array, chunk_duration=10, sr=16000):\n",
    "    chunk_length = chunk_duration * sr\n",
    "    transcription = []\n",
    "\n",
    "    for i in range(0, len(audio_array), chunk_length):\n",
    "        # Get chunk\n",
    "        chunk = audio_array[i : i + chunk_length]\n",
    "\n",
    "        # Process audio\n",
    "        input_features = processor(\n",
    "            chunk, sampling_rate=sr, return_tensors=\"pt\"\n",
    "        ).input_features\n",
    "\n",
    "        # Generate tokens\n",
    "        predicted_ids = model.generate(input_features)\n",
    "\n",
    "        # Decode\n",
    "        transcribed_text = processor.batch_decode(\n",
    "            predicted_ids, skip_special_tokens=True\n",
    "        )[0]\n",
    "\n",
    "        transcription.append(transcribed_text)\n",
    "        print(f\"Processed chunk {i//chunk_length + 1}\")\n",
    "\n",
    "    return \" \".join(transcription)\n",
    "\n",
    "\n",
    "try:\n",
    "    # Process the audio\n",
    "    result = process_audio(audio)\n",
    "    print(\"\\nFull Transcription:\", result)\n",
    "\n",
    "except Exception as e:\n",
    "    print(f\"An error occurred: {str(e)}\")\n",
    "    print(f\"Device being used: {device}\")\n",
    "    print(f\"Model name: {model_id}\")"
   ]
  }
 ],
 "metadata": {
  "kernelspec": {
   "display_name": "byteenv",
   "language": "python",
   "name": "python3"
  },
  "language_info": {
   "codemirror_mode": {
    "name": "ipython",
    "version": 3
   },
   "file_extension": ".py",
   "mimetype": "text/x-python",
   "name": "python",
   "nbconvert_exporter": "python",
   "pygments_lexer": "ipython3",
   "version": "3.11.4"
  }
 },
 "nbformat": 4,
 "nbformat_minor": 2
}
