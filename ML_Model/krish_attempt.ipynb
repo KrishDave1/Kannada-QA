{
 "cells": [
  {
   "cell_type": "code",
   "execution_count": 1,
   "metadata": {},
   "outputs": [
    {
     "name": "stdout",
     "output_type": "stream",
     "text": [
      "Processed audio chunks: ['processed_audio_chunks\\\\SandalWoodNewsStories_1_chunk0.wav', 'processed_audio_chunks\\\\SandalWoodNewsStories_1_chunk1.wav', 'processed_audio_chunks\\\\SandalWoodNewsStories_1_chunk2.wav', 'processed_audio_chunks\\\\SandalWoodNewsStories_1_chunk3.wav', 'processed_audio_chunks\\\\SandalWoodNewsStories_1_chunk4.wav', 'processed_audio_chunks\\\\SandalWoodNewsStories_1_chunk5.wav', 'processed_audio_chunks\\\\SandalWoodNewsStories_1_chunk6.wav', 'processed_audio_chunks\\\\SandalWoodNewsStories_1_chunk7.wav', 'processed_audio_chunks\\\\SandalWoodNewsStories_1_chunk8.wav', 'processed_audio_chunks\\\\SandalWoodNewsStories_1_chunk9.wav', 'processed_audio_chunks\\\\SandalWoodNewsStories_1_chunk10.wav', 'processed_audio_chunks\\\\SandalWoodNewsStories_1_chunk11.wav', 'processed_audio_chunks\\\\SandalWoodNewsStories_1_chunk12.wav', 'processed_audio_chunks\\\\SandalWoodNewsStories_1_chunk13.wav', 'processed_audio_chunks\\\\SandalWoodNewsStories_1_chunk14.wav', 'processed_audio_chunks\\\\SandalWoodNewsStories_1_chunk15.wav', 'processed_audio_chunks\\\\SandalWoodNewsStories_1_chunk16.wav', 'processed_audio_chunks\\\\SandalWoodNewsStories_1_chunk17.wav', 'processed_audio_chunks\\\\SandalWoodNewsStories_1_chunk18.wav', 'processed_audio_chunks\\\\SandalWoodNewsStories_1_chunk19.wav', 'processed_audio_chunks\\\\SandalWoodNewsStories_1_chunk20.wav', 'processed_audio_chunks\\\\SandalWoodNewsStories_1_chunk21.wav', 'processed_audio_chunks\\\\SandalWoodNewsStories_1_chunk22.wav', 'processed_audio_chunks\\\\SandalWoodNewsStories_1_chunk23.wav', 'processed_audio_chunks\\\\SandalWoodNewsStories_1_chunk24.wav', 'processed_audio_chunks\\\\SandalWoodNewsStories_1_chunk25.wav', 'processed_audio_chunks\\\\SandalWoodNewsStories_1_chunk26.wav', 'processed_audio_chunks\\\\SandalWoodNewsStories_1_chunk27.wav', 'processed_audio_chunks\\\\SandalWoodNewsStories_1_chunk28.wav', 'processed_audio_chunks\\\\SandalWoodNewsStories_1_chunk29.wav', 'processed_audio_chunks\\\\SandalWoodNewsStories_1_chunk30.wav', 'processed_audio_chunks\\\\SandalWoodNewsStories_1_chunk31.wav', 'processed_audio_chunks\\\\SandalWoodNewsStories_1_chunk32.wav', 'processed_audio_chunks\\\\SandalWoodNewsStories_1_chunk33.wav', 'processed_audio_chunks\\\\SandalWoodNewsStories_1_chunk34.wav', 'processed_audio_chunks\\\\SandalWoodNewsStories_1_chunk35.wav', 'processed_audio_chunks\\\\SandalWoodNewsStories_1_chunk36.wav', 'processed_audio_chunks\\\\SandalWoodNewsStories_1_chunk37.wav', 'processed_audio_chunks\\\\SandalWoodNewsStories_1_chunk38.wav', 'processed_audio_chunks\\\\SandalWoodNewsStories_1_chunk39.wav', 'processed_audio_chunks\\\\SandalWoodNewsStories_1_chunk40.wav', 'processed_audio_chunks\\\\SandalWoodNewsStories_1_chunk41.wav', 'processed_audio_chunks\\\\SandalWoodNewsStories_1_chunk42.wav', 'processed_audio_chunks\\\\SandalWoodNewsStories_1_chunk43.wav', 'processed_audio_chunks\\\\SandalWoodNewsStories_1_chunk44.wav', 'processed_audio_chunks\\\\SandalWoodNewsStories_1_chunk45.wav', 'processed_audio_chunks\\\\SandalWoodNewsStories_1_chunk46.wav', 'processed_audio_chunks\\\\SandalWoodNewsStories_1_chunk47.wav', 'processed_audio_chunks\\\\SandalWoodNewsStories_1_chunk48.wav', 'processed_audio_chunks\\\\SandalWoodNewsStories_1_chunk49.wav', 'processed_audio_chunks\\\\SandalWoodNewsStories_1_chunk50.wav', 'processed_audio_chunks\\\\SandalWoodNewsStories_1_chunk51.wav', 'processed_audio_chunks\\\\SandalWoodNewsStories_1_chunk52.wav', 'processed_audio_chunks\\\\SandalWoodNewsStories_1_chunk53.wav', 'processed_audio_chunks\\\\SandalWoodNewsStories_1_chunk54.wav', 'processed_audio_chunks\\\\SandalWoodNewsStories_1_chunk55.wav', 'processed_audio_chunks\\\\SandalWoodNewsStories_1_chunk56.wav', 'processed_audio_chunks\\\\SandalWoodNewsStories_1_chunk57.wav', 'processed_audio_chunks\\\\SandalWoodNewsStories_1_chunk58.wav', 'processed_audio_chunks\\\\SandalWoodNewsStories_1_chunk59.wav', 'processed_audio_chunks\\\\SandalWoodNewsStories_1_chunk60.wav', 'processed_audio_chunks\\\\SandalWoodNewsStories_1_chunk61.wav', 'processed_audio_chunks\\\\SandalWoodNewsStories_1_chunk62.wav', 'processed_audio_chunks\\\\SandalWoodNewsStories_1_chunk63.wav', 'processed_audio_chunks\\\\SandalWoodNewsStories_1_chunk64.wav', 'processed_audio_chunks\\\\SandalWoodNewsStories_1_chunk65.wav', 'processed_audio_chunks\\\\SandalWoodNewsStories_1_chunk66.wav', 'processed_audio_chunks\\\\SandalWoodNewsStories_1_chunk67.wav', 'processed_audio_chunks\\\\SandalWoodNewsStories_1_chunk68.wav', 'processed_audio_chunks\\\\SandalWoodNewsStories_1_chunk69.wav', 'processed_audio_chunks\\\\SandalWoodNewsStories_1_chunk70.wav', 'processed_audio_chunks\\\\SandalWoodNewsStories_1_chunk71.wav', 'processed_audio_chunks\\\\SandalWoodNewsStories_1_chunk72.wav', 'processed_audio_chunks\\\\SandalWoodNewsStories_1_chunk73.wav', 'processed_audio_chunks\\\\SandalWoodNewsStories_1_chunk74.wav', 'processed_audio_chunks\\\\SandalWoodNewsStories_1_chunk75.wav', 'processed_audio_chunks\\\\SandalWoodNewsStories_1_chunk76.wav', 'processed_audio_chunks\\\\SandalWoodNewsStories_1_chunk77.wav', 'processed_audio_chunks\\\\SandalWoodNewsStories_1_chunk78.wav', 'processed_audio_chunks\\\\SandalWoodNewsStories_1_chunk79.wav', 'processed_audio_chunks\\\\SandalWoodNewsStories_1_chunk80.wav', 'processed_audio_chunks\\\\SandalWoodNewsStories_1_chunk81.wav', 'processed_audio_chunks\\\\SandalWoodNewsStories_1_chunk82.wav', 'processed_audio_chunks\\\\SandalWoodNewsStories_1_chunk83.wav', 'processed_audio_chunks\\\\SandalWoodNewsStories_1_chunk84.wav', 'processed_audio_chunks\\\\SandalWoodNewsStories_1_chunk85.wav', 'processed_audio_chunks\\\\SandalWoodNewsStories_1_chunk86.wav', 'processed_audio_chunks\\\\SandalWoodNewsStories_1_chunk87.wav', 'processed_audio_chunks\\\\SandalWoodNewsStories_1_chunk88.wav', 'processed_audio_chunks\\\\SandalWoodNewsStories_1_chunk89.wav', 'processed_audio_chunks\\\\SandalWoodNewsStories_1_chunk90.wav', 'processed_audio_chunks\\\\SandalWoodNewsStories_1_chunk91.wav', 'processed_audio_chunks\\\\SandalWoodNewsStories_1_chunk92.wav', 'processed_audio_chunks\\\\SandalWoodNewsStories_1_chunk93.wav', 'processed_audio_chunks\\\\SandalWoodNewsStories_1_chunk94.wav', 'processed_audio_chunks\\\\SandalWoodNewsStories_1_chunk95.wav', 'processed_audio_chunks\\\\SandalWoodNewsStories_1_chunk96.wav', 'processed_audio_chunks\\\\SandalWoodNewsStories_1_chunk97.wav', 'processed_audio_chunks\\\\SandalWoodNewsStories_1_chunk98.wav', 'processed_audio_chunks\\\\SandalWoodNewsStories_1_chunk99.wav', 'processed_audio_chunks\\\\SandalWoodNewsStories_1_chunk100.wav', 'processed_audio_chunks\\\\SandalWoodNewsStories_1_chunk101.wav', 'processed_audio_chunks\\\\SandalWoodNewsStories_1_chunk102.wav', 'processed_audio_chunks\\\\SandalWoodNewsStories_1_chunk103.wav', 'processed_audio_chunks\\\\SandalWoodNewsStories_1_chunk104.wav', 'processed_audio_chunks\\\\SandalWoodNewsStories_1_chunk105.wav', 'processed_audio_chunks\\\\SandalWoodNewsStories_1_chunk106.wav', 'processed_audio_chunks\\\\SandalWoodNewsStories_1_chunk107.wav', 'processed_audio_chunks\\\\SandalWoodNewsStories_1_chunk108.wav', 'processed_audio_chunks\\\\SandalWoodNewsStories_1_chunk109.wav', 'processed_audio_chunks\\\\SandalWoodNewsStories_1_chunk110.wav', 'processed_audio_chunks\\\\SandalWoodNewsStories_1_chunk111.wav', 'processed_audio_chunks\\\\SandalWoodNewsStories_1_chunk112.wav', 'processed_audio_chunks\\\\SandalWoodNewsStories_1_chunk113.wav', 'processed_audio_chunks\\\\SandalWoodNewsStories_1_chunk114.wav', 'processed_audio_chunks\\\\SandalWoodNewsStories_1_chunk115.wav', 'processed_audio_chunks\\\\SandalWoodNewsStories_1_chunk116.wav', 'processed_audio_chunks\\\\SandalWoodNewsStories_1_chunk117.wav', 'processed_audio_chunks\\\\SandalWoodNewsStories_1_chunk118.wav', 'processed_audio_chunks\\\\SandalWoodNewsStories_1_chunk119.wav', 'processed_audio_chunks\\\\SandalWoodNewsStories_1_chunk120.wav', 'processed_audio_chunks\\\\SandalWoodNewsStories_1_chunk121.wav', 'processed_audio_chunks\\\\SandalWoodNewsStories_1_chunk122.wav', 'processed_audio_chunks\\\\SandalWoodNewsStories_1_chunk123.wav', 'processed_audio_chunks\\\\SandalWoodNewsStories_1_chunk124.wav', 'processed_audio_chunks\\\\SandalWoodNewsStories_1_chunk125.wav', 'processed_audio_chunks\\\\SandalWoodNewsStories_1_chunk126.wav', 'processed_audio_chunks\\\\SandalWoodNewsStories_1_chunk127.wav', 'processed_audio_chunks\\\\SandalWoodNewsStories_1_chunk128.wav', 'processed_audio_chunks\\\\SandalWoodNewsStories_1_chunk129.wav', 'processed_audio_chunks\\\\SandalWoodNewsStories_1_chunk130.wav', 'processed_audio_chunks\\\\SandalWoodNewsStories_1_chunk131.wav', 'processed_audio_chunks\\\\SandalWoodNewsStories_1_chunk132.wav', 'processed_audio_chunks\\\\SandalWoodNewsStories_1_chunk133.wav', 'processed_audio_chunks\\\\SandalWoodNewsStories_1_chunk134.wav', 'processed_audio_chunks\\\\SandalWoodNewsStories_1_chunk135.wav', 'processed_audio_chunks\\\\SandalWoodNewsStories_1_chunk136.wav', 'processed_audio_chunks\\\\SandalWoodNewsStories_1_chunk137.wav', 'processed_audio_chunks\\\\SandalWoodNewsStories_1_chunk138.wav', 'processed_audio_chunks\\\\SandalWoodNewsStories_1_chunk139.wav', 'processed_audio_chunks\\\\SandalWoodNewsStories_1_chunk140.wav', 'processed_audio_chunks\\\\SandalWoodNewsStories_1_chunk141.wav', 'processed_audio_chunks\\\\SandalWoodNewsStories_1_chunk142.wav', 'processed_audio_chunks\\\\SandalWoodNewsStories_1_chunk143.wav', 'processed_audio_chunks\\\\SandalWoodNewsStories_1_chunk144.wav', 'processed_audio_chunks\\\\SandalWoodNewsStories_1_chunk145.wav', 'processed_audio_chunks\\\\SandalWoodNewsStories_1_chunk146.wav', 'processed_audio_chunks\\\\SandalWoodNewsStories_1_chunk147.wav', 'processed_audio_chunks\\\\SandalWoodNewsStories_1_chunk148.wav', 'processed_audio_chunks\\\\SandalWoodNewsStories_1_chunk149.wav', 'processed_audio_chunks\\\\SandalWoodNewsStories_1_chunk150.wav', 'processed_audio_chunks\\\\SandalWoodNewsStories_1_chunk151.wav', 'processed_audio_chunks\\\\SandalWoodNewsStories_1_chunk152.wav', 'processed_audio_chunks\\\\SandalWoodNewsStories_1_chunk153.wav', 'processed_audio_chunks\\\\SandalWoodNewsStories_1_chunk154.wav', 'processed_audio_chunks\\\\SandalWoodNewsStories_1_chunk155.wav', 'processed_audio_chunks\\\\SandalWoodNewsStories_1_chunk156.wav', 'processed_audio_chunks\\\\SandalWoodNewsStories_1_chunk157.wav', 'processed_audio_chunks\\\\SandalWoodNewsStories_1_chunk158.wav', 'processed_audio_chunks\\\\SandalWoodNewsStories_1_chunk159.wav', 'processed_audio_chunks\\\\SandalWoodNewsStories_1_chunk160.wav', 'processed_audio_chunks\\\\SandalWoodNewsStories_1_chunk161.wav', 'processed_audio_chunks\\\\SandalWoodNewsStories_1_chunk162.wav', 'processed_audio_chunks\\\\SandalWoodNewsStories_1_chunk163.wav', 'processed_audio_chunks\\\\SandalWoodNewsStories_1_chunk164.wav', 'processed_audio_chunks\\\\SandalWoodNewsStories_1_chunk165.wav', 'processed_audio_chunks\\\\SandalWoodNewsStories_1_chunk166.wav', 'processed_audio_chunks\\\\SandalWoodNewsStories_1_chunk167.wav', 'processed_audio_chunks\\\\SandalWoodNewsStories_1_chunk168.wav', 'processed_audio_chunks\\\\SandalWoodNewsStories_1_chunk169.wav', 'processed_audio_chunks\\\\SandalWoodNewsStories_1_chunk170.wav', 'processed_audio_chunks\\\\SandalWoodNewsStories_1_chunk171.wav', 'processed_audio_chunks\\\\SandalWoodNewsStories_1_chunk172.wav', 'processed_audio_chunks\\\\SandalWoodNewsStories_1_chunk173.wav', 'processed_audio_chunks\\\\SandalWoodNewsStories_1_chunk174.wav', 'processed_audio_chunks\\\\SandalWoodNewsStories_1_chunk175.wav', 'processed_audio_chunks\\\\SandalWoodNewsStories_1_chunk176.wav', 'processed_audio_chunks\\\\SandalWoodNewsStories_1_chunk177.wav', 'processed_audio_chunks\\\\SandalWoodNewsStories_1_chunk178.wav', 'processed_audio_chunks\\\\SandalWoodNewsStories_1_chunk179.wav', 'processed_audio_chunks\\\\SandalWoodNewsStories_1_chunk180.wav', 'processed_audio_chunks\\\\SandalWoodNewsStories_1_chunk181.wav', 'processed_audio_chunks\\\\SandalWoodNewsStories_1_chunk182.wav', 'processed_audio_chunks\\\\SandalWoodNewsStories_1_chunk183.wav', 'processed_audio_chunks\\\\SandalWoodNewsStories_1_chunk184.wav', 'processed_audio_chunks\\\\SandalWoodNewsStories_1_chunk185.wav', 'processed_audio_chunks\\\\SandalWoodNewsStories_1_chunk186.wav', 'processed_audio_chunks\\\\SandalWoodNewsStories_1_chunk187.wav', 'processed_audio_chunks\\\\SandalWoodNewsStories_1_chunk188.wav', 'processed_audio_chunks\\\\SandalWoodNewsStories_1_chunk189.wav', 'processed_audio_chunks\\\\SandalWoodNewsStories_1_chunk190.wav', 'processed_audio_chunks\\\\SandalWoodNewsStories_1_chunk191.wav', 'processed_audio_chunks\\\\SandalWoodNewsStories_1_chunk192.wav', 'processed_audio_chunks\\\\SandalWoodNewsStories_1_chunk193.wav', 'processed_audio_chunks\\\\SandalWoodNewsStories_1_chunk194.wav', 'processed_audio_chunks\\\\SandalWoodNewsStories_1_chunk195.wav', 'processed_audio_chunks\\\\SandalWoodNewsStories_1_chunk196.wav', 'processed_audio_chunks\\\\SandalWoodNewsStories_1_chunk197.wav', 'processed_audio_chunks\\\\SandalWoodNewsStories_1_chunk198.wav', 'processed_audio_chunks\\\\SandalWoodNewsStories_1_chunk199.wav', 'processed_audio_chunks\\\\SandalWoodNewsStories_1_chunk200.wav', 'processed_audio_chunks\\\\SandalWoodNewsStories_1_chunk201.wav', 'processed_audio_chunks\\\\SandalWoodNewsStories_1_chunk202.wav', 'processed_audio_chunks\\\\SandalWoodNewsStories_1_chunk203.wav', 'processed_audio_chunks\\\\SandalWoodNewsStories_1_chunk204.wav', 'processed_audio_chunks\\\\SandalWoodNewsStories_1_chunk205.wav']\n"
     ]
    }
   ],
   "source": [
    "from pydub import AudioSegment\n",
    "from pydub.silence import split_on_silence\n",
    "import os\n",
    "\n",
    "\n",
    "def preprocess_audio(file_path, output_dir, min_silence_len=500, silence_thresh=-40):\n",
    "    \"\"\"\n",
    "    Preprocess the audio by splitting it based on silence and normalizing it.\n",
    "\n",
    "    Parameters:\n",
    "    - file_path: Path to the audio file\n",
    "    - output_dir: Directory to save the processed chunks\n",
    "    - min_silence_len: Minimum silence length to consider a split\n",
    "    - silence_thresh: Silence threshold (in dB)\n",
    "\n",
    "    Returns:\n",
    "    - List of paths to processed audio chunks\n",
    "    \"\"\"\n",
    "    # Load audio file\n",
    "    audio = AudioSegment.from_file(file_path)\n",
    "\n",
    "    # Normalize audio\n",
    "    audio = audio.normalize()\n",
    "\n",
    "    # Split on silence\n",
    "    audio_chunks = split_on_silence(\n",
    "        audio, min_silence_len=min_silence_len, silence_thresh=silence_thresh\n",
    "    )\n",
    "\n",
    "    # Save chunks\n",
    "    chunk_paths = []\n",
    "    for i, chunk in enumerate(audio_chunks):\n",
    "        chunk_path = os.path.join(\n",
    "            output_dir, f\"{os.path.basename(file_path).split('.')[0]}_chunk{i}.wav\"\n",
    "        )\n",
    "        chunk.export(chunk_path, format=\"wav\")\n",
    "        chunk_paths.append(chunk_path)\n",
    "\n",
    "    return chunk_paths\n",
    "\n",
    "\n",
    "# Example usage\n",
    "audio_file = \"../Dataset/SandalWoodNewsStories_1.mp3\"\n",
    "output_dir = \"processed_audio_chunks\"\n",
    "os.makedirs(output_dir, exist_ok=True)\n",
    "processed_files = preprocess_audio(audio_file, output_dir)\n",
    "print(\"Processed audio chunks:\", processed_files)"
   ]
  }
 ],
 "metadata": {
  "kernelspec": {
   "display_name": "byteenv",
   "language": "python",
   "name": "python3"
  },
  "language_info": {
   "codemirror_mode": {
    "name": "ipython",
    "version": 3
   },
   "file_extension": ".py",
   "mimetype": "text/x-python",
   "name": "python",
   "nbconvert_exporter": "python",
   "pygments_lexer": "ipython3",
   "version": "3.11.4"
  }
 },
 "nbformat": 4,
 "nbformat_minor": 2
}
